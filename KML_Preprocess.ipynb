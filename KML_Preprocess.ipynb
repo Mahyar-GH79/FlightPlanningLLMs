{
 "cells": [
  {
   "cell_type": "code",
   "execution_count": 3,
   "metadata": {},
   "outputs": [
    {
     "name": "stdout",
     "output_type": "stream",
     "text": [
      "Coordinates for 'Poly4-1':\n",
      "-96.94602827592331,32.60801781548394,3000 -96.92398903586647,32.61721859556256,3000 -96.91296941583806,32.62641937564118,3000 -96.90194979580964,32.64482093579841,3000 -96.5823808149858,33.19686774051551,3000 -96.5823808149858,33.41768646240234,3000 -96.62645929509944,33.41768646240234,3000 -96.91296941583806,33.37168256200925,3000 -96.94602827592331,33.35328100185202,3000 -96.96806751598011,33.32567866161616,3000 -97.05622447620739,33.15086384012242,3000 -97.16642067649148,32.85643887760664,3000 -97.16642067649148,32.82883653737078,3000 -97.15540105646308,32.75523029674184,3000 -96.9570478959517,32.60801781548394,3000 -96.94602827592331,32.60801781548394,3000\n",
      "\n",
      "Coordinates for 'Destination':\n",
      "-98.21946506508321,33.34275509954574,274.2121167616264\n",
      "\n"
     ]
    }
   ],
   "source": [
    "import xml.etree.ElementTree as ET\n",
    "\n",
    "def get_coordinates_from_kml(kml_file_path: str, placemark_names: list):\n",
    "    \"\"\"\n",
    "    Extracts coordinates from a KML file for multiple specified placemark names.\n",
    "\n",
    "    :param kml_file_path: Path to the KML file.\n",
    "    :param placemark_names: List of placemark names to search for.\n",
    "    :return: Dictionary with placemark names as keys and coordinates as values.\n",
    "    \"\"\"\n",
    "    try:\n",
    "        # Load and parse the KML file\n",
    "        tree = ET.parse(kml_file_path)\n",
    "        root = tree.getroot()\n",
    "\n",
    "        # Extract the namespace\n",
    "        namespace = {'kml': 'http://www.opengis.net/kml/2.2'}\n",
    "\n",
    "        # Dictionary to store results\n",
    "        placemark_dict = {}\n",
    "\n",
    "        # Search for all placemarks in the file\n",
    "        for elem in root.findall(\".//kml:Placemark\", namespace):\n",
    "            name = elem.find(\"kml:name\", namespace)\n",
    "            coordinates = elem.find(\".//kml:coordinates\", namespace)\n",
    "\n",
    "            if name is not None and coordinates is not None:\n",
    "                # If the name is in the requested list, store it in the dictionary\n",
    "                if name.text in placemark_names:\n",
    "                    placemark_dict[name.text] = coordinates.text.strip()\n",
    "\n",
    "        return placemark_dict  # Return the dictionary of results\n",
    "\n",
    "    except ET.ParseError:\n",
    "        print(\"Error: Unable to parse the KML file. Ensure it is properly formatted.\")\n",
    "    except Exception as e:\n",
    "        print(f\"An error occurred: {e}\")\n",
    "\n",
    "    return {}  # Return an empty dictionary if nothing is found\n",
    "\n",
    "# Example usage:\n",
    "kml_path = \"/Users/mghazanfari/Desktop/LLM_PathPlanning/Polygons .kml\"  # Update with your actual KML file path\n",
    "placemark_list = [\"Poly4-1\", \"Destination\"]  # Example list of names\n",
    "\n",
    "coordinates_dict = get_coordinates_from_kml(kml_path, placemark_list)\n",
    "if coordinates_dict:\n",
    "    for name, coords in coordinates_dict.items():\n",
    "        print(f\"Coordinates for '{name}':\\n{coords}\\n\")\n",
    "else:\n",
    "    print(\"No matching placemarks found in the KML file.\")\n"
   ]
  },
  {
   "cell_type": "code",
   "execution_count": null,
   "metadata": {},
   "outputs": [],
   "source": []
  }
 ],
 "metadata": {
  "kernelspec": {
   "display_name": "Python 3",
   "language": "python",
   "name": "python3"
  },
  "language_info": {
   "codemirror_mode": {
    "name": "ipython",
    "version": 3
   },
   "file_extension": ".py",
   "mimetype": "text/x-python",
   "name": "python",
   "nbconvert_exporter": "python",
   "pygments_lexer": "ipython3",
   "version": "3.9.6"
  }
 },
 "nbformat": 4,
 "nbformat_minor": 2
}
